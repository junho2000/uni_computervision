{
 "cells": [
  {
   "attachments": {},
   "cell_type": "markdown",
   "metadata": {},
   "source": [
    "#### (1) cv2.dft()\n",
    "\n",
    "> cv2.dft()는 실수부와 허수부로 구성된 두 개의 채널 데이터(실수)를 출력\n"
   ]
  },
  {
   "cell_type": "code",
   "execution_count": 2,
   "metadata": {},
   "outputs": [
    {
     "name": "stdout",
     "output_type": "stream",
     "text": [
      "(512, 512, 2) float32\n"
     ]
    }
   ],
   "source": [
    "import numpy as np\n",
    "import cv2\n",
    "from matplotlib import pyplot as plt\n",
    "\n",
    "img = cv2.imread('../data/lena.png',0).astype(np.float32)/255\n",
    "\n",
    "dft = cv2.dft(img, flags=cv2.DFT_COMPLEX_OUTPUT)\n",
    "\n",
    "print(dft.shape, dft.dtype)\n",
    "#2채널인 이유는 실수부 허수부\n",
    "#uint8로는 dft 못함\n",
    "\n"
   ]
  },
  {
   "cell_type": "code",
   "execution_count": 4,
   "metadata": {},
   "outputs": [],
   "source": [
    "dft_shift = np.fft.fftshift(dft)\n",
    "magnitude_spectrum = 20*np.log10(cv2.magnitude(dft_shift[:,:,0],dft_shift[:,:,1]))\n",
    "\n",
    "cv2.imshow('magnitude_spectrum', magnitude_spectrum/np.max(magnitude_spectrum))\n",
    "cv2.waitKey()\n",
    "cv2.destroyAllWindows()\n"
   ]
  },
  {
   "attachments": {},
   "cell_type": "markdown",
   "metadata": {},
   "source": [
    "#### (2) np.fft.fft2()\n",
    "> np.fft.fft2()는 복소수 1채널 데이터를 출력"
   ]
  },
  {
   "cell_type": "code",
   "execution_count": 7,
   "metadata": {},
   "outputs": [
    {
     "name": "stdout",
     "output_type": "stream",
     "text": [
      "(512, 512) of complex128\n"
     ]
    }
   ],
   "source": [
    "import cv2\n",
    "import numpy as np\n",
    "import matplotlib.pyplot as plt\n",
    "\n",
    "img = cv2.imread('../data/lena.png',0).astype(np.float32)/255\n",
    "\n",
    "fft = np.fft.fft2(img)\n",
    "\n",
    "print(fft.shape, 'of', fft.dtype)\n",
    "\n",
    "# (0,0) frequency: centered\n",
    "fft_shift = np.fft.fftshift(fft, axes=[0, 1])\n",
    "\n",
    "magnitude_spectrum = 20*np.log10(np.abs(fft_shift))\n",
    "\n",
    "cv2.imshow('magnitude_spectrum', magnitude_spectrum/np.max(magnitude_spectrum))\n",
    "cv2.waitKey()\n",
    "cv2.destroyAllWindows()\n"
   ]
  },
  {
   "attachments": {},
   "cell_type": "markdown",
   "metadata": {},
   "source": [
    "#### (3) Frequency-Domain Lowpass Filtering (Zonsl Filter)"
   ]
  },
  {
   "cell_type": "code",
   "execution_count": 54,
   "metadata": {},
   "outputs": [
    {
     "name": "stderr",
     "output_type": "stream",
     "text": [
      "C:\\Users\\dwkang\\AppData\\Local\\Temp\\ipykernel_13192\\3853838238.py:24: RuntimeWarning: divide by zero encountered in log10\n",
      "  filtered_spectrum = 20*np.log10(np.abs(fshift))\n"
     ]
    }
   ],
   "source": [
    "import cv2\n",
    "import numpy as np\n",
    "import matplotlib.pyplot as plt\n",
    "\n",
    "img = cv2.imread('../data/lena.png',0).astype(np.float32)/255\n",
    "\n",
    "rows, cols = img.shape[:2]\n",
    "\n",
    "d = cols//5\n",
    "\n",
    "mask = np.zeros((rows,cols),np.uint8)\n",
    "mask = cv2.circle(mask,(cols//2,rows//2), d, 1, -1)\n",
    "\n",
    "fft = np.fft.fft2(img)\n",
    "\n",
    "# (0,0) frequency: centered\n",
    "fft_shift = np.fft.fftshift(fft, axes=[0, 1])\n",
    "\n",
    "# apply mask and inverse DFT\n",
    "fshift = fft_shift*mask\n",
    "\n",
    "magnitude_spectrum = 20*np.log10(np.abs(fft_shift))\n",
    "magnitude_spectrum /= np.max(magnitude_spectrum)\n",
    "filtered_spectrum = 20*np.log10(np.abs(fshift))\n",
    "filtered_spectrum /= np.max(filtered_spectrum)\n",
    "\n",
    "fft_ishift = np.fft.ifftshift(fft_shift)\n",
    "f_ishift = np.fft.ifftshift(fshift)\n",
    "\n",
    "img0_back = np.abs(np.fft.ifft2(fft_ishift)).astype(np.float32)\n",
    "img1_back = np.abs(np.fft.ifft2(f_ishift)).astype(np.float32)\n",
    "\n",
    "psnr0 = cv2.PSNR(img, img0_back, 1)\n",
    "psnr1 = cv2.PSNR(img, img1_back, 1)\n",
    "\n",
    "cv2.imshow('{:0.2f} dB vs {:0.2f} dB'.format(psnr0,psnr1),\\\n",
    "    np.vstack([np.hstack([magnitude_spectrum,filtered_spectrum]),np.hstack([img0_back,img1_back])]))\n",
    "cv2.waitKey()\n",
    "cv2.destroyAllWindows()"
   ]
  },
  {
   "attachments": {},
   "cell_type": "markdown",
   "metadata": {},
   "source": [
    "#### (4) Other Masks"
   ]
  },
  {
   "cell_type": "code",
   "execution_count": 56,
   "metadata": {
    "collapsed": false
   },
   "outputs": [],
   "source": [
    "sz2 = fft.shape[0]\n",
    "mask2 = np.ones(fft.shape[:2], np.float32)\n",
    "mask2 = cv2.circle(mask2,(0,0), int(sz2*1.414/2.5), 0, -1)\n",
    "mask2 = cv2.circle(mask2,(0,sz2-1), int(sz2*1.414/2.5), 0, -1)\n",
    "mask2 = cv2.circle(mask2,(sz2-1,0), int(sz2*1.414/2.5), 0, -1)\n",
    "mask2 = cv2.circle(mask2,(sz2-1,sz2-1), int(sz2*1.414/2.5), 0, -1)\n",
    "\n",
    "cv2.imshow('mask', mask2)\n",
    "cv2.waitKey()\n",
    "cv2.destroyAllWindows()\n",
    "\n",
    "fft_shift_lpf2 = fft_shift * mask2\n",
    "fft_lpf2 = np.fft.ifftshift(fft_shift_lpf2, axes=[0, 1])\n",
    "filtered_lpf2 = np.fft.ifft2(fft_lpf2)\n",
    "filtered_lpf2 = np.abs(filtered_lpf2)\n",
    "\n",
    "cv2.imshow('filtered vs filtered2', np.hstack([img1_back,filtered_lpf2]) )\n",
    "cv2.waitKey()\n",
    "cv2.destroyAllWindows()"
   ]
  },
  {
   "attachments": {},
   "cell_type": "markdown",
   "metadata": {},
   "source": [
    "#### (5) Freq-Domain Filtering of Color Image"
   ]
  },
  {
   "cell_type": "code",
   "execution_count": 36,
   "metadata": {},
   "outputs": [],
   "source": [
    "import cv2\n",
    "import numpy as np\n",
    "import matplotlib.pyplot as plt\n",
    "#컬러는 rgb분해후 필터링 따로\n",
    "\n",
    "image = cv2.imread('../data/Lena.png').astype(np.float32) / 255\n",
    "noise = np.random.randn(*image.shape).astype(np.float32) * 0.1\n",
    "noised =(image + noise).clip(0,1)\n",
    "filtered = np.zeros_like(noised)\n",
    "\n",
    "sz1 = fft.shape[0]//8\n",
    "mask1 = np.zeros(fft.shape[:2], np.float32)\n",
    "mask1 = cv2.circle(mask1,(image.shape[1]//2,image.shape[0]//2), sz1, 1, -1)\n",
    "\n",
    "for i in range(3): #채널별로\n",
    "    fft = np.fft.fft2(noised[...,i])\n",
    "\n",
    "    # (0,0) frequency: centered\n",
    "    fft_shift = np.fft.fftshift(fft, axes=[0, 1])\n",
    "    fft_shift_lpf = fft_shift * mask1\n",
    "    fft_lpf = np.fft.ifftshift(fft_shift_lpf, axes=[0, 1])\n",
    "    filtered_lpf = np.fft.ifft2(fft_lpf)\n",
    "    filtered[...,i] = np.abs(filtered_lpf)\n",
    "\n",
    "# log10-scale\n",
    "cv2.imshow('color noised vs filtered', np.hstack([noised,filtered]))\n",
    "cv2.waitKey()\n",
    "cv2.destroyAllWindows()"
   ]
  },
  {
   "attachments": {},
   "cell_type": "markdown",
   "metadata": {
    "collapsed": false
   },
   "source": [
    "#### (6) DCT-Domain (Zonal) Filtering"
   ]
  },
  {
   "cell_type": "code",
   "execution_count": 7,
   "metadata": {
    "collapsed": false
   },
   "outputs": [],
   "source": [
    "import cv2\n",
    "import numpy as np\n",
    "import matplotlib.pyplot as plt\n",
    "\n",
    "image = cv2.imread('../data/Lena.png').astype(np.float32) / 255\n",
    "noise = np.random.randn(*image.shape).astype(np.float32) * 0.1\n",
    "noised =(image + noise).clip(0,1)\n",
    "filtered = np.zeros_like(noised)\n",
    "\n",
    "''' Zonal filter '''\n",
    "y,x = noised.shape[:2]\n",
    "mask = np.zeros(noised.shape[:2], dtype=np.float32)\n",
    "mask = cv2.rectangle(mask, (0, 0), (x//2, y//2), 1, -1)\n",
    "mask = cv2.circle(mask, (x//2, y//2), x//2, 0, -1)\n",
    "mask[:,0] = 1\n",
    "mask[0,:] = 1\n",
    "\n",
    "for i in range(3):\n",
    "    dct = cv2.dct(noised[...,i])\n",
    "    dct *= mask\n",
    "    filtered[...,i] = cv2.idct(dct)\n",
    "\n",
    "cv2.imshow('mask', mask)\n",
    "cv2.imshow('noised vs filtered', np.hstack([noised,filtered]))\n",
    "cv2.waitKey()\n",
    "cv2.destroyAllWindows()"
   ]
  },
  {
   "attachments": {},
   "cell_type": "markdown",
   "metadata": {},
   "source": [
    "#### (7) Threshold Coding of DCT Coefficients"
   ]
  },
  {
   "cell_type": "code",
   "execution_count": 15,
   "metadata": {
    "collapsed": false
   },
   "outputs": [],
   "source": [
    "import cv2\n",
    "import numpy as np\n",
    "import matplotlib.pyplot as plt\n",
    "\n",
    "image = cv2.imread('../data/Lena.png').astype(np.float32) / 255\n",
    "noise = np.random.randn(*image.shape).astype(np.float32) * 0.1\n",
    "noised =(image + noise).clip(0,1)\n",
    "filtered = np.zeros_like(noised)\n",
    "\n",
    "for i in range(3):\n",
    "    dct = cv2.dct(noised[...,i])\n",
    "    absdct = np.abs(dct)\n",
    "    ''' Threshold filter '''\n",
    "    th = np.std(absdct)/2\n",
    "    mask = np.zeros_like(dct)\n",
    "    mask[absdct >= th] = 1\n",
    "    dct *= mask\n",
    "    filtered[...,i] = cv2.idct(dct)\n",
    "\n",
    "cv2.imshow('noised vs filtered', np.hstack([noised,filtered]))\n",
    "cv2.waitKey()\n",
    "cv2.destroyAllWindows()"
   ]
  },
  {
   "attachments": {},
   "cell_type": "markdown",
   "metadata": {
    "collapsed": false
   },
   "source": [
    "#### (8) Information in Magnitude vs Angle"
   ]
  },
  {
   "cell_type": "code",
   "execution_count": 18,
   "metadata": {
    "collapsed": false
   },
   "outputs": [],
   "source": [
    "img = cv2.imread('../data/Lena.png',0).astype(np.float32)/255\n",
    "\n",
    "fff = np.fft.fft2(img)\n",
    "mag, ang = np.abs(fff), np.angle(fff)\n",
    "\n",
    "only_ang = np.fft.ifft2(np.exp(1j*ang))\n",
    "only_ang = np.abs(only_ang).astype(np.float32)\n",
    "only_ang = cv2.normalize(only_ang,None,0,1,cv2.NORM_MINMAX)\n",
    "\n",
    "only_mag = np.fft.ifft2(mag.astype(np.complex128))\n",
    "only_mag = np.abs(only_mag).astype(np.float32)\n",
    "only_mag = cv2.normalize(only_mag,None,0,1,cv2.NORM_MINMAX)\n",
    "\n",
    "cv2.imshow('mag_only vs phase_only', np.hstack([only_mag,only_ang]))\n",
    "cv2.waitKey()\n",
    "cv2.destroyAllWindows()"
   ]
  },
  {
   "attachments": {},
   "cell_type": "markdown",
   "metadata": {},
   "source": [
    "#### (9) Wavelet Transform"
   ]
  },
  {
   "cell_type": "code",
   "execution_count": 44,
   "metadata": {},
   "outputs": [],
   "source": [
    "# pip install pywavelets\n",
    "\n",
    "import cv2\n",
    "import pywt\n",
    "import numpy as np\n",
    "import matplotlib.pyplot as plt\n",
    "\n",
    "# pywt.families(short=True)  # 제공되는 필터 유형(군)\n",
    "# pywt.wavelist('bior')      # 해당 유형의 필터군에서 구현되어 있는 필터 세트\n",
    "wavefilter = 'bior6.8'\n",
    "\n",
    "image = cv2.imread('../data/Lena.png', 0).astype(np.float32) / 255\n",
    "\n",
    "LL = image.copy()\n",
    "for i in range(3):\n",
    "    LL,_ = pywt.dwt2(LL, wavefilter)\n",
    "    cv2.imshow('wavelet', cv2.normalize(LL,None,0,1,cv2.NORM_MINMAX))\n",
    "    cv2.waitKey()\n",
    "    cv2.destroyAllWindows()\n",
    "\n",
    "for i in range(3):\n",
    "    LH = np.zeros_like(LL)\n",
    "    HL = np.zeros_like(LL)\n",
    "    HH = np.zeros_like(LL)\n",
    "    LL = pywt.idwt2((LL, (LH, HL, HH)), wavefilter) \n",
    "\n",
    "cv2.imshow('wavelet', np.hstack([image, LL]))\n",
    "cv2.waitKey()\n",
    "cv2.destroyAllWindows()"
   ]
  }
 ],
 "metadata": {
  "kernelspec": {
   "display_name": "Python 3",
   "language": "python",
   "name": "python3"
  },
  "language_info": {
   "codemirror_mode": {
    "name": "ipython",
    "version": 3
   },
   "file_extension": ".py",
   "mimetype": "text/x-python",
   "name": "python",
   "nbconvert_exporter": "python",
   "pygments_lexer": "ipython3",
   "version": "3.11.0"
  },
  "vscode": {
   "interpreter": {
    "hash": "10340f3b4385e401792eeb44b8b5edca2cd8c002c17926bde515355c1d6e3c5e"
   }
  }
 },
 "nbformat": 4,
 "nbformat_minor": 2
}
