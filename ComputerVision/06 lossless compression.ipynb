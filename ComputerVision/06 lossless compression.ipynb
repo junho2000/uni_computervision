{
 "cells": [
  {
   "cell_type": "code",
   "execution_count": 8,
   "metadata": {
    "collapsed": false
   },
   "outputs": [
    {
     "name": "stdout",
     "output_type": "stream",
     "text": [
      "[0.5849625 1.5849625]\n",
      "H = 0.918296 bits\n",
      "H2 = 0.861216 bits/symbol\n",
      "[0.15200309 3.32192809]\n",
      "H3 = 0.468996 bits\n"
     ]
    }
   ],
   "source": [
    "import cv2\n",
    "import numpy as np\n",
    "import os\n",
    "\n",
    "P = np.array([2/3, 1/3])\n",
    "H = -np.sum(P*np.log2(P))\n",
    "print(-np.log2(P))\n",
    "print(f'H = {H:g} bits')\n",
    "\n",
    "P2 = np.array([0.533, 0.133, 0.133, 0.2])\n",
    "H2 = -np.sum(P2*np.log2(P2))/2\n",
    "print(f'H2 = {H2:g} bits/symbol')\n",
    "\n",
    "P3 = np.array([0.9,0.1])\n",
    "H3 = -np.sum(P3*np.log2(P3))\n",
    "print(-np.log2(P3))\n",
    "print(f'H3 = {H3:g} bits')"
   ]
  },
  {
   "attachments": {},
   "cell_type": "markdown",
   "metadata": {},
   "source": [
    "#### (1) Arithmetic Code"
   ]
  },
  {
   "cell_type": "code",
   "execution_count": null,
   "metadata": {
    "collapsed": false
   },
   "outputs": [
    {
     "name": "stdout",
     "output_type": "stream",
     "text": [
      "0.000000, 0.700000\n",
      "0.000000, 0.490000\n",
      "0.343000, 0.490000\n",
      "0.343000, 0.445900\n",
      "0.343000, 0.415030\n",
      "0.393421, 0.415030\n",
      "0.408547, 0.415030\n",
      "0.408547, 0.413085\n",
      "0.408547, 0.411724\n",
      "0.408547, 0.410771\n",
      "2 0.25 0.158547, 0.160771\n",
      "3 0.125 0.033547, 0.035771\n",
      "5 0.03125 0.002297, 0.004521\n",
      "8 0.00390625 -0.001609, 0.000615\n",
      "0.41015625\n"
     ]
    }
   ],
   "source": [
    "def encode(lb, ub, p1, b):\n",
    "    if b==1:\n",
    "        ub = lb + (ub-lb)*p1\n",
    "    else:\n",
    "        lb = lb + (ub-lb)*p1\n",
    "    return lb, ub\n",
    "\n",
    "s = [1,1,0,1,1,0,0,1,1,1]\n",
    "\n",
    "lb, ub = 0, 1\n",
    "for n in range(10):\n",
    "    lb, ub = encode(lb, ub, 0.7, s[n])\n",
    "    print('{:0.6f}, {:0.6f}'.format(lb, ub))\n",
    "\n",
    "cw, lb0, ub0 = 0, lb, ub\n",
    "\n",
    "for n in range(20):\n",
    "    k = 1/2**n\n",
    "    if k < ub:\n",
    "        cw += k\n",
    "        lb -= k\n",
    "        ub -= k\n",
    "        print(n, k, '{:0.6f}, {:0.6f}'.format(lb, ub))\n",
    "        if cw >= lb0:\n",
    "            break\n",
    "print(cw)"
   ]
  },
  {
   "cell_type": "code",
   "execution_count": null,
   "metadata": {},
   "outputs": [],
   "source": [
    "import numpy as np\n",
    "s = np.array([0,0,1,0,0,1,1,0,0,0])\n",
    "p0 = 0.7\n",
    "lb = 0\n",
    "ub = 1\n",
    "for n in range(10):\n",
    "    step = ub - lb\n",
    "    thrs = lb + step*p0\n",
    "    if s[n] == 1:   \n",
    "        ub = thrs\n",
    "    else:\n",
    "        lb = thrs\n",
    "\n",
    "# find the combination of binary fractions\n",
    "bf = 0.5\n",
    "cw = []\n",
    "while True:\n",
    "    if lb <= bf < ub: # found\n",
    "        cw.append(1)\n",
    "        break\n",
    "    elif lb > bf:\n",
    "        cw.append(1)\n",
    "        lb -= bf\n",
    "        ub -= bf\n",
    "        bf /= 2\n",
    "    else:\n",
    "        cw.append(0)\n",
    "        bf /= 2\n",
    "\n",
    "print(cw)"
   ]
  },
  {
   "attachments": {},
   "cell_type": "markdown",
   "metadata": {},
   "source": [
    "#### (2) PNG"
   ]
  },
  {
   "cell_type": "code",
   "execution_count": 20,
   "metadata": {
    "collapsed": false
   },
   "outputs": [
    {
     "name": "stdout",
     "output_type": "stream",
     "text": [
      "BMP : Saved using 6912.054 kbytes\n",
      "TIFF: 2425.898 kbytes \n",
      "PSNR = 361.20 dB\n",
      "PNG 0: 2032.064 kbytes\n",
      "PNG 1: 2032.064 kbytes\n",
      "PNG 2: 2032.064 kbytes\n",
      "PNG 3: 2032.064 kbytes\n",
      "PNG 4: 2032.064 kbytes\n",
      "PNG 5: 2032.064 kbytes\n",
      "PNG 6: 2032.064 kbytes\n",
      "PNG 7: 2032.064 kbytes\n",
      "PNG 8: 2032.064 kbytes\n",
      "PNG 9: 2032.064 kbytes\n",
      "\n",
      "PSNR = 361.20 dB\n"
     ]
    }
   ],
   "source": [
    "import cv2\n",
    "import os\n",
    "\n",
    "filename = \"../data/jaguar.bmp\" #\"../data/lena.png\"\n",
    "img = cv2.imread(filename) \n",
    "size0 = os.path.getsize(filename)\n",
    "print('BMP : Saved using {} kbytes'.format(size0/1000))\n",
    "\n",
    "cv2.imwrite('img_compressed.tiff', img)\n",
    "size1 = os.path.getsize('img_compressed.tiff')\n",
    "print('TIFF: {} kbytes'.format(size1/1000), end=' ')\n",
    "compressed = cv2.imread(\"img_compressed.tiff\")\n",
    "psnr = cv2.PSNR(img,compressed)\n",
    "print(f'\\nPSNR = {psnr:0.2f} dB')\n",
    "\n",
    "cv2.imshow('tiff', compressed)\n",
    "cv2.waitKey()\n",
    "cv2.destroyAllWindows()\n",
    "\n",
    "for n in range(10):\n",
    "    cv2.imwrite('img_compressed.png', img, [cv2.IMWRITE_PNG_COMPRESSION, 1])\n",
    "    # Complexity: 0~9 (low cmplx and fast decoding <-> high cmplx and slow decoding)\n",
    "    size1 = os.path.getsize('img_compressed.png')\n",
    "    print('PNG {}: {} kbytes'.format(n, size1/1000))\n",
    "\n",
    "compressed = cv2.imread(\"img_compressed.png\")\n",
    "psnr = cv2.PSNR(img,compressed)\n",
    "print(f'\\nPSNR = {psnr:0.2f} dB')"
   ]
  }
 ],
 "metadata": {
  "kernelspec": {
   "display_name": "Python 3",
   "language": "python",
   "name": "python3"
  },
  "language_info": {
   "codemirror_mode": {
    "name": "ipython",
    "version": 3
   },
   "file_extension": ".py",
   "mimetype": "text/x-python",
   "name": "python",
   "nbconvert_exporter": "python",
   "pygments_lexer": "ipython3",
   "version": "3.11.0"
  },
  "vscode": {
   "interpreter": {
    "hash": "10340f3b4385e401792eeb44b8b5edca2cd8c002c17926bde515355c1d6e3c5e"
   }
  }
 },
 "nbformat": 4,
 "nbformat_minor": 0
}
