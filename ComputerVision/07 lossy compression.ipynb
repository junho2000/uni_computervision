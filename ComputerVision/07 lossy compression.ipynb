{
 "cells": [
  {
   "attachments": {},
   "cell_type": "markdown",
   "metadata": {},
   "source": [
    "#### (1) JPEG"
   ]
  },
  {
   "cell_type": "code",
   "execution_count": 12,
   "metadata": {
    "collapsed": false
   },
   "outputs": [
    {
     "name": "stdout",
     "output_type": "stream",
     "text": [
      "BMP : Saved using 473.831 kbytes\n",
      "BMP vs\tPNG vs\tJPG\n",
      "473.8\t525.4\t24.3 (kB)\n",
      "---\t361.20\t32.02 (dB)\n"
     ]
    }
   ],
   "source": [
    "import cv2\n",
    "import os\n",
    "import numpy as np\n",
    "\n",
    "filename = \"../data/lena.png\" # \"../data/jaguar.bmp\"\n",
    "img = cv2.imread(filename) \n",
    "size = os.path.getsize(filename)\n",
    "print('BMP : Saved using {} kbytes'.format(size/1000))\n",
    "\n",
    "cv2.imwrite('img_compressed.png', img, [cv2.IMWRITE_PNG_COMPRESSION, 1])\n",
    "size1 = os.path.getsize('img_compressed.png')\n",
    "img1 = cv2.imread('img_compressed.png')\n",
    "psnr1 = cv2.PSNR(img,img1)\n",
    "\n",
    "cv2.imwrite('img_compressed.jpg', img, [cv2.IMWRITE_JPEG_QUALITY, 50])\n",
    "# Quality: 0~100 (low quality <-> high quality)\n",
    "size2 = os.path.getsize('img_compressed.jpg')\n",
    "img2 = cv2.imread('img_compressed.jpg')\n",
    "psnr2 = cv2.PSNR(img,img2)\n",
    "\n",
    "print('BMP vs\\tPNG vs\\tJPG')\n",
    "print('{:0.1f}\\t{:0.1f}\\t{:0.1f} (kB)'.format(size/1000,size1/1000,size2/1000))\n",
    "print('---\\t{:0.2f}\\t{:0.2f} (dB)'.format(psnr1,psnr2))\n",
    "\n",
    "cv2.imshow('compressed',np.hstack([img1,img2]))\n",
    "cv2.waitKey()\n",
    "cv2.destroyAllWindows()"
   ]
  }
 ],
 "metadata": {
  "kernelspec": {
   "display_name": "Python 3.11.0 64-bit",
   "language": "python",
   "name": "python3"
  },
  "language_info": {
   "codemirror_mode": {
    "name": "ipython",
    "version": 3
   },
   "file_extension": ".py",
   "mimetype": "text/x-python",
   "name": "python",
   "nbconvert_exporter": "python",
   "pygments_lexer": "ipython3",
   "version": "3.11.0"
  },
  "orig_nbformat": 4,
  "vscode": {
   "interpreter": {
    "hash": "10340f3b4385e401792eeb44b8b5edca2cd8c002c17926bde515355c1d6e3c5e"
   }
  }
 },
 "nbformat": 4,
 "nbformat_minor": 2
}
