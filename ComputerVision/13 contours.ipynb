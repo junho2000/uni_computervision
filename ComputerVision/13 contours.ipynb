{
 "cells": [
  {
   "attachments": {},
   "cell_type": "markdown",
   "metadata": {},
   "source": [
    "#### (1) Find Contours"
   ]
  },
  {
   "cell_type": "code",
   "execution_count": 5,
   "metadata": {},
   "outputs": [],
   "source": [
    "import cv2\n",
    "import numpy as np\n",
    "\n",
    "image = cv2.imread('../data/BnW.png', cv2.IMREAD_COLOR)\n",
    "grey = cv2.cvtColor(image, cv2.COLOR_BGR2GRAY)\n",
    "_, mask = cv2.threshold(grey,0,255,cv2.THRESH_BINARY | cv2.THRESH_OTSU)\n",
    "\n",
    "# mode - contours를 찾는 방법\n",
    "# cv2.RETR_EXTERNAL, cv2.RETR_LIST, cv2.RETR_CCOMP, cv2.RETR_TREE, \n",
    "# method - contours를 표현하는 방법\n",
    "# cv2.CHAIN_APPROX_NONE, cv2.CHAIN_APPROX_SIMPLE\n",
    "contours, hierarchy = cv2.findContours(mask, cv2.RETR_CCOMP, cv2.CHAIN_APPROX_SIMPLE)\n",
    "\n",
    "for i in range(len(contours)):\n",
    "    if hierarchy[0][i][3] == -1: # external contour\n",
    "        cv2.drawContours(image, contours, i, [0,0,255], 3)\n",
    "    else: # internal contour\n",
    "        cv2.drawContours(image, contours, i, [0,255,0], 3)\n",
    "\n",
    "cv2.imshow('contoured image', image)\n",
    "cv2.waitKey()\n",
    "cv2.destroyAllWindows()"
   ]
  },
  {
   "cell_type": "code",
   "execution_count": 11,
   "metadata": {},
   "outputs": [
    {
     "ename": "KeyboardInterrupt",
     "evalue": "",
     "output_type": "error",
     "traceback": [
      "\u001b[1;31m---------------------------------------------------------------------------\u001b[0m",
      "\u001b[1;31mKeyboardInterrupt\u001b[0m                         Traceback (most recent call last)",
      "Cell \u001b[1;32mIn [11], line 20\u001b[0m\n\u001b[0;32m     18\u001b[0m     cv2\u001b[39m.\u001b[39mdrawContours(mask, contours, i, \u001b[39m255\u001b[39m, \u001b[39m1\u001b[39m)\n\u001b[0;32m     19\u001b[0m cv2\u001b[39m.\u001b[39mimshow(\u001b[39m'\u001b[39m\u001b[39mcontoured image\u001b[39m\u001b[39m'\u001b[39m, mask) \n\u001b[1;32m---> 20\u001b[0m cv2\u001b[39m.\u001b[39;49mwaitKey()\n\u001b[0;32m     21\u001b[0m cv2\u001b[39m.\u001b[39mdestroyAllWindows()\n",
      "\u001b[1;31mKeyboardInterrupt\u001b[0m: "
     ]
    }
   ],
   "source": [
    "import cv2\n",
    "import numpy as np\n",
    "\n",
    "image = cv2.imread('../data/sudoku.png', cv2.IMREAD_COLOR)\n",
    "grey = cv2.cvtColor(image,cv2.COLOR_BGR2GRAY)\n",
    "\n",
    "edges = cv2.Canny(grey, 50, 100)\n",
    "\n",
    "contours, hierarchy = cv2.findContours(edges, cv2.RETR_CCOMP, cv2.CHAIN_APPROX_SIMPLE)\n",
    "\n",
    "mask = np.zeros_like(edges)\n",
    "\n",
    "for i in range(len(contours)):\n",
    "    mask[...] = 0\n",
    "    if hierarchy[0][i][3] == -1: # external contour\n",
    "        cv2.drawContours(mask, contours, i, 255, 1)\n",
    "    else: # internal contour\n",
    "        cv2.drawContours(mask, contours, i, 255, 1)\n",
    "    cv2.imshow('contoured image', mask) \n",
    "    cv2.waitKey()\n",
    "    cv2.destroyAllWindows()"
   ]
  },
  {
   "attachments": {},
   "cell_type": "markdown",
   "metadata": {},
   "source": [
    "#### (2) Connected Components"
   ]
  },
  {
   "cell_type": "code",
   "execution_count": 16,
   "metadata": {
    "collapsed": true
   },
   "outputs": [],
   "source": [
    "image = cv2.imread('../data/sudoku.png', cv2.IMREAD_COLOR)\n",
    "grey = cv2.cvtColor(image, cv2.COLOR_BGR2GRAY)\n",
    "_, mask = cv2.threshold(grey,0,255,cv2.THRESH_BINARY_INV | cv2.THRESH_OTSU)\n",
    "\n",
    "connectivity = 8\n",
    "num_labels, labelmap = cv2.connectedComponents(mask, connectivity, cv2.CV_32S)\n",
    "\n",
    "img = np.hstack((mask, labelmap.astype(np.float32)/(num_labels - 1)))\n",
    "cv2.imshow('Connected components', img)\n",
    "cv2.waitKey()\n",
    "cv2.destroyAllWindows()"
   ]
  },
  {
   "cell_type": "code",
   "execution_count": 13,
   "metadata": {
    "collapsed": true
   },
   "outputs": [
    {
     "name": "stdout",
     "output_type": "stream",
     "text": [
      "2 objects\n"
     ]
    }
   ],
   "source": [
    "image = cv2.imread('../data/BW.png', cv2.IMREAD_COLOR)\n",
    "grey = cv2.cvtColor(image, cv2.COLOR_BGR2GRAY)\n",
    "_, mask = cv2.threshold(grey,0,255,cv2.THRESH_BINARY | cv2.THRESH_OTSU)\n",
    "\n",
    "retval, labels, stats, centroids,  = cv2.connectedComponentsWithStats(mask, connectivity=8)\n",
    "\n",
    "print(f'{retval} objects')\n",
    "\n",
    "for i in range(1,retval):\n",
    "    x,y,w,h,area = stats[i]\n",
    "    cv2.rectangle(image,(x,y),(x+w,y+h),[0,0,255],3)\n",
    "\n",
    "cv2.imshow('Connected components', image)\n",
    "cv2.waitKey()\n",
    "cv2.destroyAllWindows()"
   ]
  },
  {
   "attachments": {},
   "cell_type": "markdown",
   "metadata": {},
   "source": [
    "#### (3) Properties of a contour"
   ]
  },
  {
   "attachments": {},
   "cell_type": "markdown",
   "metadata": {},
   "source": [
    "- Contour Area"
   ]
  },
  {
   "cell_type": "code",
   "execution_count": 9,
   "metadata": {},
   "outputs": [
    {
     "name": "stdout",
     "output_type": "stream",
     "text": [
      "area = 27260.0\n"
     ]
    }
   ],
   "source": [
    "import cv2\n",
    "import numpy as np\n",
    "\n",
    "image = cv2.imread('../data/BnW.png', cv2.IMREAD_COLOR)\n",
    "grey = cv2.cvtColor(image, cv2.COLOR_BGR2GRAY)\n",
    "_, mask = cv2.threshold(grey,0,255,cv2.THRESH_BINARY | cv2.THRESH_OTSU)\n",
    "\n",
    "contours, hierarchy = cv2.findContours(mask, cv2.RETR_CCOMP, cv2.CHAIN_APPROX_SIMPLE)\n",
    "\n",
    "cnt = contours[0]\n",
    "\n",
    "print('area =', cv2.contourArea(cnt))"
   ]
  },
  {
   "attachments": {},
   "cell_type": "markdown",
   "metadata": {},
   "source": [
    "- Contour Perimeter"
   ]
  },
  {
   "cell_type": "code",
   "execution_count": 11,
   "metadata": {},
   "outputs": [
    {
     "name": "stdout",
     "output_type": "stream",
     "text": [
      "area = 702.0\n",
      "area = 586.0\n"
     ]
    }
   ],
   "source": [
    "print('closed perimeter =', cv2.arcLength(cnt, True))\n",
    "print('open arclength =', cv2.arcLength(cnt, False))"
   ]
  },
  {
   "attachments": {},
   "cell_type": "markdown",
   "metadata": {},
   "source": [
    "- Contour Approximation"
   ]
  },
  {
   "cell_type": "code",
   "execution_count": 13,
   "metadata": {},
   "outputs": [],
   "source": [
    "image = cv2.imread('../data/BW.png', cv2.IMREAD_COLOR)\n",
    "grey = cv2.cvtColor(image, cv2.COLOR_BGR2GRAY)\n",
    "_, mask = cv2.threshold(grey,0,255,cv2.THRESH_BINARY | cv2.THRESH_OTSU)\n",
    "\n",
    "contours, hierarchy = cv2.findContours(mask, cv2.RETR_CCOMP, cv2.CHAIN_APPROX_SIMPLE)\n",
    "\n",
    "cnt = contours[0]\n",
    "\n",
    "img1 = image.copy()\n",
    "img2 = image.copy()\n",
    "\n",
    "# 적용하는 숫자가 커질 수록 Point의 갯수는 감소\n",
    "epsilon1 = 0.01*cv2.arcLength(cnt, True)\n",
    "epsilon2 = 0.1*cv2.arcLength(cnt, True)\n",
    "\n",
    "approx1 = cv2.approxPolyDP(cnt, epsilon1, True)\n",
    "approx2 = cv2.approxPolyDP(cnt, epsilon2, True)\n",
    "\n",
    "cv2.drawContours(image, [cnt],0,(0,255,0),3) # 215개의 Point\n",
    "cv2.drawContours(img1, [approx1], 0,(0,255,0), 3) # 21개의 Point\n",
    "cv2.drawContours(img2, [approx2], 0,(0,255,0), 3) # 4개의 Point\n",
    "\n",
    "cv2.imshow('contoured image', image)\n",
    "cv2.imshow('approximated image 1', img1)\n",
    "cv2.imshow('approximated image 2', img2)\n",
    "cv2.waitKey()\n",
    "cv2.destroyAllWindows()"
   ]
  },
  {
   "attachments": {},
   "cell_type": "markdown",
   "metadata": {},
   "source": [
    "- Convex Hull"
   ]
  },
  {
   "cell_type": "code",
   "execution_count": 14,
   "metadata": {},
   "outputs": [],
   "source": [
    "image = cv2.imread('../data/BW.png', cv2.IMREAD_COLOR)\n",
    "grey = cv2.cvtColor(image, cv2.COLOR_BGR2GRAY)\n",
    "_, mask = cv2.threshold(grey,0,255,cv2.THRESH_BINARY | cv2.THRESH_OTSU)\n",
    "\n",
    "contours, hierarchy = cv2.findContours(mask, cv2.RETR_CCOMP, cv2.CHAIN_APPROX_SIMPLE)\n",
    "\n",
    "cnt = contours[0]\n",
    "\n",
    "hull = cv2.convexHull(cnt)\n",
    "\n",
    "cv2.drawContours(image, [hull], 0,(0,255,0), 3)\n",
    "\n",
    "cv2.imshow('convex hull image', image)\n",
    "cv2.waitKey()\n",
    "cv2.destroyAllWindows()"
   ]
  },
  {
   "attachments": {},
   "cell_type": "markdown",
   "metadata": {},
   "source": [
    "- Bounding Rectangle"
   ]
  },
  {
   "cell_type": "code",
   "execution_count": 15,
   "metadata": {},
   "outputs": [],
   "source": [
    "image = cv2.imread('../data/BW.png', cv2.IMREAD_COLOR)\n",
    "grey = cv2.cvtColor(image, cv2.COLOR_BGR2GRAY)\n",
    "_, mask = cv2.threshold(grey,0,255,cv2.THRESH_BINARY | cv2.THRESH_OTSU)\n",
    "\n",
    "contours, hierarchy = cv2.findContours(mask, cv2.RETR_CCOMP, cv2.CHAIN_APPROX_SIMPLE)\n",
    "\n",
    "cnt = contours[0]\n",
    "\n",
    "x,y,w,h = cv2.boundingRect(cnt)\n",
    "image = cv2.rectangle(image,(x,y),(x+w,y+h),(0,255,0),2)\n",
    "\n",
    "cv2.imshow('bounding box', image)\n",
    "cv2.waitKey()\n",
    "cv2.destroyAllWindows()"
   ]
  },
  {
   "attachments": {},
   "cell_type": "markdown",
   "metadata": {},
   "source": [
    "- Minimum Enclosing Circle"
   ]
  },
  {
   "cell_type": "code",
   "execution_count": 17,
   "metadata": {},
   "outputs": [],
   "source": [
    "image = cv2.imread('../data/BW.png', cv2.IMREAD_COLOR)\n",
    "grey = cv2.cvtColor(image, cv2.COLOR_BGR2GRAY)\n",
    "_, mask = cv2.threshold(grey,0,255,cv2.THRESH_BINARY | cv2.THRESH_OTSU)\n",
    "\n",
    "contours, hierarchy = cv2.findContours(mask, cv2.RETR_CCOMP, cv2.CHAIN_APPROX_SIMPLE)\n",
    "\n",
    "cnt = contours[0]\n",
    "\n",
    "(x,y),radius = cv2.minEnclosingCircle(cnt)\n",
    "center = (int(x),int(y))\n",
    "radius = int(radius)\n",
    "image = cv2.circle(image,center,radius,(0,255,0),2)\n",
    "\n",
    "cv2.imshow('enclosing circle', image)\n",
    "cv2.waitKey()\n",
    "cv2.destroyAllWindows()"
   ]
  },
  {
   "attachments": {},
   "cell_type": "markdown",
   "metadata": {},
   "source": [
    "- Fitting Ellipse"
   ]
  },
  {
   "cell_type": "code",
   "execution_count": 17,
   "metadata": {},
   "outputs": [],
   "source": [
    "image = cv2.imread('../data/BW.png', cv2.IMREAD_COLOR)\n",
    "grey = cv2.cvtColor(image, cv2.COLOR_BGR2GRAY)\n",
    "_, mask = cv2.threshold(grey,0,255,cv2.THRESH_BINARY | cv2.THRESH_OTSU)\n",
    "\n",
    "contours, hierarchy = cv2.findContours(mask, cv2.RETR_CCOMP, cv2.CHAIN_APPROX_SIMPLE)\n",
    "\n",
    "cnt = contours[0]\n",
    "\n",
    "ellipse = cv2.fitEllipse(cnt)\n",
    "image = cv2.ellipse(image, ellipse,(0,0,255),3) #red\n",
    "\n",
    "cv2.imshow('enclosing circle', image)\n",
    "cv2.waitKey()\n",
    "cv2.destroyAllWindows()"
   ]
  },
  {
   "attachments": {},
   "cell_type": "markdown",
   "metadata": {},
   "source": [
    "#### (4) 응용 예"
   ]
  },
  {
   "cell_type": "code",
   "execution_count": 33,
   "metadata": {},
   "outputs": [],
   "source": [
    "image = cv2.imread('../data/sudoku.png', cv2.IMREAD_COLOR)\n",
    "grey = cv2.cvtColor(image, cv2.COLOR_BGR2GRAY)\n",
    "thrs = np.zeros_like(grey)\n",
    "\n",
    "rows,cols = grey.shape[:2]\n",
    "\n",
    "edges = cv2.Canny(grey, 50, 100)\n",
    "\n",
    "contours, hierarchy = cv2.findContours(edges, cv2.RETR_CCOMP, cv2.CHAIN_APPROX_SIMPLE)\n",
    "\n",
    "for cnt in contours:\n",
    "    x,y,w,h = cv2.boundingRect(cnt)\n",
    "    if 25 <= h <= 40 and 10 <= w <= 35 and x < cols-50 and y > 50:\n",
    "        mask = grey[y:y+h,x:x+w]\n",
    "        _, mask = cv2.threshold(mask,0,255,cv2.THRESH_BINARY_INV|cv2.THRESH_OTSU)\n",
    "        thrs[y:y+h,x:x+w] = mask\n",
    "\n",
    "cv2.imshow('grey', grey)\n",
    "cv2.imshow('thrs', thrs)\n",
    "cv2.waitKey()\n",
    "cv2.destroyAllWindows()"
   ]
  }
 ],
 "metadata": {
  "kernelspec": {
   "display_name": "Python 3",
   "language": "python",
   "name": "python3"
  },
  "language_info": {
   "codemirror_mode": {
    "name": "ipython",
    "version": 3
   },
   "file_extension": ".py",
   "mimetype": "text/x-python",
   "name": "python",
   "nbconvert_exporter": "python",
   "pygments_lexer": "ipython3",
   "version": "3.11.0"
  },
  "vscode": {
   "interpreter": {
    "hash": "10340f3b4385e401792eeb44b8b5edca2cd8c002c17926bde515355c1d6e3c5e"
   }
  }
 },
 "nbformat": 4,
 "nbformat_minor": 2
}
