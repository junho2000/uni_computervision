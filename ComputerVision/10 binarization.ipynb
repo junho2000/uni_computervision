{
 "cells": [
  {
   "attachments": {},
   "cell_type": "markdown",
   "metadata": {},
   "source": [
    "#### (1) Global Thresholding"
   ]
  },
  {
   "cell_type": "code",
   "execution_count": null,
   "metadata": {},
   "outputs": [],
   "source": [
    "import cv2\n",
    "import numpy as np\n",
    "import matplotlib.pyplot as plt\n",
    "\n",
    "img = cv2.imread('../data/gradient.png',0)\n",
    "\n",
    "_,thresh1 = cv2.threshold(img,127,255,cv2.THRESH_BINARY)\n",
    "_,thresh2 = cv2.threshold(img,127,255,cv2.THRESH_BINARY_INV)\n",
    "_,thresh3 = cv2.threshold(img,127,255,cv2.THRESH_TRUNC) #127보다 크면 127, 작으면 그대로\n",
    "_,thresh4 = cv2.threshold(img,127,255,cv2.THRESH_TOZERO) #작으면 0, 크면 그대로\n",
    "_,thresh5 = cv2.threshold(img,127,255,cv2.THRESH_TOZERO_INV)\n",
    "titles = ['Original Image','BINARY','BINARY_INV','TRUNC','TOZERO','TOZERO_INV']\n",
    "images = [img, thresh1, thresh2, thresh3, thresh4, thresh5]\n",
    "plt.figure(figsize=(12,4))\n",
    "for i in range(6):\n",
    "    plt.subplot(2,3,i+1),plt.imshow(images[i],'gray',vmin=0,vmax=255)\n",
    "    plt.title(titles[i])\n",
    "    plt.xticks([])\n",
    "    plt.yticks([])\n",
    "plt.show()"
   ]
  },
  {
   "attachments": {},
   "cell_type": "markdown",
   "metadata": {},
   "source": [
    "#### (2) Otsu Algorithm"
   ]
  },
  {
   "cell_type": "code",
   "execution_count": 4,
   "metadata": {},
   "outputs": [
    {
     "name": "stdout",
     "output_type": "stream",
     "text": [
      "Otsu threshold: 126.0\n"
     ]
    }
   ],
   "source": [
    "import cv2\n",
    "import numpy as np\n",
    "\n",
    "img = cv2.imread('../data/gradient.png',0)\n",
    "\n",
    "th1, mask = cv2.threshold(img,127,255,cv2.THRESH_BINARY)\n",
    "\n",
    "otsu_thr, otsu_mask = cv2.threshold(img, 0, 255, cv2.THRESH_BINARY | cv2.THRESH_OTSU) #otsu로 threshold -> binary\n",
    "\n",
    "print(f'Otsu threshold: {otsu_thr}')\n",
    "\n",
    "cv2.imshow('threshold=127',mask)\n",
    "cv2.imshow('Otsu',otsu_mask)\n",
    "cv2.waitKey()\n",
    "cv2.destroyAllWindows()"
   ]
  },
  {
   "attachments": {},
   "cell_type": "markdown",
   "metadata": {
    "collapsed": false
   },
   "source": [
    "#### (2) Adaptive thresholding"
   ]
  },
  {
   "cell_type": "code",
   "execution_count": 7,
   "metadata": {},
   "outputs": [],
   "source": [
    "img = cv2.imread('../data/sudoku.png',0)\n",
    "\n",
    "th1, mask = cv2.threshold(img,127,255,cv2.THRESH_BINARY)\n",
    "cv2.imshow('binary threshold = 127',mask)\n",
    "cv2.waitKey()\n",
    "cv2.destroyAllWindows()\n",
    "\n",
    "otsu_thr, otsu_mask = cv2.threshold(img,127,255,cv2.THRESH_BINARY | cv2.THRESH_OTSU)\n",
    "\n",
    "cv2.imshow('Ostu threshold = {:g}'.format(otsu_thr), otsu_mask)\n",
    "cv2.waitKey()\n",
    "cv2.destroyAllWindows()"
   ]
  },
  {
   "attachments": {},
   "cell_type": "markdown",
   "metadata": {},
   "source": [
    "`cv2.adaptiveThreshold(src, maxValue, adaptiveMethod, thresholdType, blockSize, C)`\n",
    "\n",
    "Parameters:\t\n",
    ">- src – grayscale image\n",
    ">- maxValue – 임계값\n",
    ">- adaptiveMethod – thresholding value를 결정하는 계산 방법\n",
    ">- thresholdType – threshold type\n",
    ">- blockSize – thresholding을 적용할 영역 사이즈\n",
    ">- C – 평균이나 가중평균에서 차감할 값\n",
    "\n",
    "Adaptive Methods\n",
    ">- cv2.ADAPTIVE_THRESH_MEAN_C : 주변영역의 평균값으로 결정\n",
    ">- cv2.ADAPTIVE_THRESH_GAUSSIAN_C :"
   ]
  },
  {
   "cell_type": "code",
   "execution_count": 8,
   "metadata": {},
   "outputs": [],
   "source": [
    "adapt_mask = cv2.adaptiveThreshold(img, 255, cv2.ADAPTIVE_THRESH_MEAN_C, cv2.THRESH_BINARY_INV, 11, 6)\n",
    "\n",
    "cv2.imshow('binary threshold = 127',mask)\n",
    "cv2.imshow('Ostu threshold = {:g}'.format(otsu_thr), otsu_mask)\n",
    "cv2.imshow('adaptive threshold',adapt_mask)\n",
    "cv2.waitKey()\n",
    "cv2.destroyAllWindows()"
   ]
  },
  {
   "attachments": {},
   "cell_type": "markdown",
   "metadata": {
    "collapsed": false
   },
   "source": [
    "#### (3) Prefilters\n"
   ]
  },
  {
   "cell_type": "code",
   "execution_count": 9,
   "metadata": {},
   "outputs": [],
   "source": [
    "img = cv2.imread('../data/sudoku.png',0)\n",
    "\n",
    "mask = cv2.adaptiveThreshold(img, 255, cv2.ADAPTIVE_THRESH_MEAN_C, cv2.THRESH_BINARY_INV, 11, 6)\n",
    "\n",
    "blur = cv2.GaussianBlur(img,(11,11),0) #\n",
    "blur_mask = cv2.adaptiveThreshold(blur, 255, cv2.ADAPTIVE_THRESH_MEAN_C, cv2.THRESH_BINARY_INV, 11, 6)\n",
    "\n",
    "cv2.imshow('without prefilter',mask)\n",
    "cv2.imshow('after prefiltering',blur_mask)\n",
    "cv2.waitKey()\n",
    "cv2.destroyAllWindows()"
   ]
  },
  {
   "attachments": {},
   "cell_type": "markdown",
   "metadata": {},
   "source": [
    "#### (4) Morphological Filter"
   ]
  },
  {
   "cell_type": "code",
   "execution_count": 16,
   "metadata": {
    "collapsed": true
   },
   "outputs": [],
   "source": [
    "closed = cv2.morphologyEx(mask, cv2.MORPH_CLOSE,cv2.getStructuringElement(cv2.MORPH_ELLIPSE, (3, 3)),iterations=1)\n",
    "opened = cv2.morphologyEx(closed, cv2.MORPH_OPEN, cv2.getStructuringElement(cv2.MORPH_ELLIPSE, (3, 3)),iterations=1)\n",
    "\n",
    "cv2.imshow('without prefilter',mask)\n",
    "cv2.imshow('after prefiltering',blur_mask)\n",
    "cv2.imshow('opening',opened)\n",
    "cv2.imshow('closing',closed)\n",
    "cv2.waitKey()\n",
    "cv2.destroyAllWindows()"
   ]
  },
  {
   "attachments": {},
   "cell_type": "markdown",
   "metadata": {},
   "source": [
    "#### (5) 2진 영상의 응용 예 1: Mask"
   ]
  },
  {
   "cell_type": "code",
   "execution_count": 20,
   "metadata": {},
   "outputs": [],
   "source": [
    "import cv2\n",
    "import numpy as np\n",
    "\n",
    "# Camera 객체를 생성 후 사이즈르 320 X 240 으로 조정.\n",
    "cap = cv2.VideoCapture(0)\n",
    "cap.set(3, 640)\n",
    "cap.set(4, 480)\n",
    "\n",
    "while(1):\n",
    "    # camera에서 frame capture.\n",
    "    ret, frame = cap.read()\n",
    "\n",
    "    if ret:\n",
    "        \n",
    "        frame = cv2.GaussianBlur(frame,(7,7),0)\n",
    "\n",
    "        # BGR->HSV로 변환\n",
    "        hsv = cv2.cvtColor(frame, cv2.COLOR_BGR2HSV)\n",
    "\n",
    "        # blue 영역의 from ~ to\n",
    "        # Red 원색의 Hue는 0, Green 원색의 Hue는 60, Blue 원색의 Hue는 120\n",
    "        lower_blue = np.array([105, 100, 100])\n",
    "        upper_blue = np.array([135, 255, 255])\n",
    "\n",
    "        #이미지에서 blue영역\n",
    "        mask = cv2.inRange(hsv, lower_blue, upper_blue)\n",
    "\n",
    "        #bit연산자를 통해서 blue영역만 남김.\n",
    "        res = cv2.bitwise_and(frame, frame, mask = mask)\n",
    "\n",
    "        cv2.imshow('frame', frame)\n",
    "        cv2.imshow('mask', mask)\n",
    "        cv2.imshow('res', res)\n",
    "\n",
    "    if cv2.waitKey(1) & 0xFF == 27:\n",
    "        break\n",
    "\n",
    "cap.release()\n",
    "cv2.destroyAllWindows()"
   ]
  },
  {
   "attachments": {},
   "cell_type": "markdown",
   "metadata": {},
   "source": [
    "#### (6) 2진 영상의 응용 2: Object detection"
   ]
  },
  {
   "cell_type": "code",
   "execution_count": 29,
   "metadata": {
    "collapsed": false
   },
   "outputs": [],
   "source": [
    "#자동차 pcb칩이 금방 부식 -> 형광 실리콘으로 코팅 -> 오래 유지\n",
    "#분사식으로 코팅 -> 거품, 코팅이 잘못됨\n",
    "\n",
    "img = cv2.imread('../data/35.bmp')\n",
    "rows,cols=img.shape[:2]\n",
    "img = img[rows//4:rows//2+rows//4,cols//4:cols//2+cols//4,:].copy()\n",
    "\n",
    "grey = cv2.cvtColor(img,cv2.COLOR_BGR2GRAY)\n",
    "\n",
    "grey = cv2.GaussianBlur(grey,(11,11),0)\n",
    "\n",
    "mask = cv2.adaptiveThreshold(grey, 255, cv2.ADAPTIVE_THRESH_MEAN_C, cv2.THRESH_BINARY_INV, 11, 6)\n",
    "\n",
    "res = cv2.bitwise_and(img, img, mask=mask)\n",
    "\n",
    "cv2.imshow('input',img)\n",
    "cv2.imshow('objects',res)\n",
    "cv2.waitKey()\n",
    "cv2.destroyAllWindows()"
   ]
  }
 ],
 "metadata": {
  "kernelspec": {
   "display_name": "Python 3",
   "language": "python",
   "name": "python3"
  },
  "language_info": {
   "codemirror_mode": {
    "name": "ipython",
    "version": 3
   },
   "file_extension": ".py",
   "mimetype": "text/x-python",
   "name": "python",
   "nbconvert_exporter": "python",
   "pygments_lexer": "ipython3",
   "version": "3.11.0"
  },
  "vscode": {
   "interpreter": {
    "hash": "10340f3b4385e401792eeb44b8b5edca2cd8c002c17926bde515355c1d6e3c5e"
   }
  }
 },
 "nbformat": 4,
 "nbformat_minor": 2
}
