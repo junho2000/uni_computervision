{
 "cells": [
  {
   "attachments": {},
   "cell_type": "markdown",
   "metadata": {},
   "source": [
    "#### (1) Gradient Operators - Roberts, Prewitt, Sobel, Scharr"
   ]
  },
  {
   "cell_type": "code",
   "execution_count": 2,
   "metadata": {
    "collapsed": true
   },
   "outputs": [],
   "source": [
    "import cv2\n",
    "import numpy as np\n",
    "\n",
    "def Roberts2(grey):\n",
    "    mask_p = np.array([[-1,0,0],[0,1,0],[0,0,0]])\n",
    "    mask_m = np.array([[0,0,-1],[0,1,0],[0,0,0]])\n",
    "    dp = cv2.filter2D(grey, -1, mask_p)\n",
    "    dm = cv2.filter2D(grey, -1, mask_m)\n",
    "    grad = np.sqrt(dp**2 + dm**2)\n",
    "    grad = cv2.normalize(grad, None, 0, 1, cv2.NORM_MINMAX)\n",
    "    return grad\n",
    "\n",
    "\n",
    "def Prewitt2(grey):\n",
    "    mask_y = np.array([[-1,-1,-1],[0,0,0],[1,1,1]])\n",
    "    mask_x = np.array([[-1,0,1],[-1,0,1],[-1,0,1]])\n",
    "    dx = cv2.filter2D(grey, -1, mask_x)\n",
    "    dy = cv2.filter2D(grey, -1, mask_y)\n",
    "    grad = np.sqrt(dx**2 + dy**2)\n",
    "    grad = cv2.normalize(grad, None, 0, 1, cv2.NORM_MINMAX)\n",
    "    return grad\n",
    "\n",
    "\n",
    "def Sobel2(grey):\n",
    "    mask_y = np.array([[-1,-2,-1],[0,0,0],[1,2,1]])\n",
    "    mask_x = np.array([[-1,0,1],[-2,0,2],[-1,0,1]])\n",
    "    dx = cv2.filter2D(grey, -1, mask_x)\n",
    "    dy = cv2.filter2D(grey, -1, mask_y)\n",
    "    # dx = cv2.Sobel(grey, cv2.CV_32F, 1, 0, ksize=3)\n",
    "    # dy = cv2.Sobel(grey, cv2.CV_32F, 0, 1, ksize=3)\n",
    "    grad = np.sqrt(dx**2 + dy**2)\n",
    "    grad = cv2.normalize(grad, None, 0, 1, cv2.NORM_MINMAX)\n",
    "    return grad\n",
    "\n",
    "\n",
    "def Scharr2(grey):\n",
    "    mask_y = np.array([[-3,-10,-3],[0,0,0],[3,10,3]])\n",
    "    mask_x = np.array([[-3,0,3],[-10,0,10],[-3,0,3]])\n",
    "    dx = cv2.filter2D(grey, -1, mask_x)\n",
    "    dy = cv2.filter2D(grey, -1, mask_y)\n",
    "    # dx = cv2.Scharr(grey, cv2.CV_32F, 1, 0)\n",
    "    # dy = cv2.Scharr(grey, cv2.CV_32F, 0, 1)\n",
    "    grad = np.sqrt(dx**2 + dy**2)\n",
    "    grad = cv2.normalize(grad, None, 0, 1, cv2.NORM_MINMAX)\n",
    "    return grad\n",
    "\n",
    "\n",
    "image = cv2.imread('../data/Lena.png', 0).astype(np.float32)/255\n",
    "\n",
    "grad_roberts = Roberts2(image)\n",
    "grad_prewitt = Prewitt2(image)\n",
    "grad_sobel = Sobel2(image)\n",
    "grad_scharr = Scharr2(image)\n",
    "\n",
    "\n",
    "cv2.imshow('Roberts', grad_roberts)\n",
    "cv2.imshow('Prewitt', grad_prewitt)\n",
    "cv2.imshow('Sobel', grad_sobel)\n",
    "cv2.imshow('Scharr', grad_scharr)\n",
    "cv2.waitKey()\n",
    "cv2.waitKey()\n",
    "cv2.destroyAllWindows()"
   ]
  },
  {
   "attachments": {},
   "cell_type": "markdown",
   "metadata": {},
   "source": [
    "#### (2) Laplacian Masks"
   ]
  },
  {
   "cell_type": "code",
   "execution_count": 3,
   "metadata": {},
   "outputs": [],
   "source": [
    "def Laplacian2(grey, mask):\n",
    "    d = cv2.filter2D(grey, -1, mask)\n",
    "    d = np.abs(d)\n",
    "    d = cv2.normalize(d, None, 0, 1, cv2.NORM_MINMAX)\n",
    "    return d\n",
    "\n",
    "\n",
    "image = cv2.imread('../data/Lena.png', 0).astype(np.float32)/255\n",
    "\n",
    "mask_1 = np.array([[0,-1,0],[-1,4,-1],[0,-1,0]])\n",
    "mask_2 = np.array([[-1,-1,-1],[-1,8,-1],[-1,-1,-1]])\n",
    "\n",
    "lap1 = Laplacian2(image, mask_1)\n",
    "lap2 = Laplacian2(image, mask_2)\n",
    "\n",
    "cv2.imshow('Laplacian1', lap1)\n",
    "cv2.imshow('Laplacian2', lap2)\n",
    "cv2.waitKey()\n",
    "cv2.destroyAllWindows()"
   ]
  },
  {
   "attachments": {},
   "cell_type": "markdown",
   "metadata": {},
   "source": [
    "#### (5) Laplacian of Gaussian"
   ]
  },
  {
   "cell_type": "code",
   "execution_count": 27,
   "metadata": {},
   "outputs": [],
   "source": [
    "import cv2\n",
    "import numpy as np\n",
    "\n",
    "# 1단계\n",
    "image = cv2.imread('../data/lena.png',0).astype(np.float32)/255\n",
    "\n",
    "blur = cv2.GaussianBlur(image, (7,7), 0)\n",
    "\n",
    "lap = cv2.subtract(image, blur)\n",
    "lap = cv2.normalize(lap, None, 0, 1, cv2.NORM_MINMAX)\n",
    "lap2 = cv2.Laplacian(blur, cv2.CV_32F, None, ksize=3)\n",
    "lap2 = cv2.normalize(lap2, None, 0, 1, cv2.NORM_MINMAX)\n",
    "\n",
    "cv2.imshow('DoG', lap)\n",
    "cv2.imshow('LoG', lap2)\n",
    "cv2.waitKey()\n",
    "cv2.destroyAllWindows()"
   ]
  },
  {
   "attachments": {},
   "cell_type": "markdown",
   "metadata": {},
   "source": [
    "> 전처리 필터는 다른 그레디언트 오퍼레이터에도 유효하다.\n",
    "\n",
    "`cv2.Sobel(src, ddepth, dx, dy[, dst[, ksize[, scale[, delta[, borderType]]]]]) → dst`\n",
    "Parameters:\t\n",
    ">- src – input image\n",
    ">- ddepth – output image의 depth, -1이면 input image와 동일.\n",
    ">- dx – x축 미분 차수.\n",
    ">- dy – y축 미분 차수.\n",
    ">- ksize – kernel size(ksize x ksize)\n",
    "\n",
    "만약 ksize가 -1이면 3x3 Scharr filter가 적용된다."
   ]
  },
  {
   "cell_type": "code",
   "execution_count": 24,
   "metadata": {},
   "outputs": [],
   "source": [
    "image = cv2.imread('../data/lena.png',0).astype(np.float32)/255\n",
    "\n",
    "blur = cv2.GaussianBlur(image, (7,7), 0)\n",
    "\n",
    "dx = cv2.Sobel(blur, -1, 1, 0, ksize=3)\n",
    "dy = cv2.Sobel(blur, -1, 0, 1, ksize=3)\n",
    "#dx = cv2.Scharr(blur, -1, 1, 0)\n",
    "#dy = cv2.Scharr(blur, -1, 0, 1)\n",
    "grad = np.sqrt(dx**2 + dy**2)\n",
    "grad = cv2.normalize(grad, None, 0, 1, cv2.NORM_MINMAX)\n",
    "grad = (grad*255).astype(np.uint8)\n",
    "\n",
    "_, thrs = cv2.threshold(grad,0,255,cv2.THRESH_BINARY|cv2.THRESH_OTSU)\n",
    "\n",
    "cv2.imshow('edges', thrs)\n",
    "cv2.waitKey()\n",
    "cv2.waitKey()\n",
    "cv2.destroyAllWindows()"
   ]
  },
  {
   "attachments": {},
   "cell_type": "markdown",
   "metadata": {},
   "source": [
    "#### (3) Canny\n",
    "\n",
    "`cv2.Canny(image, threshold1, threshold2[, edges[, apertureSize[, L2gradient]]]) → edges`\n",
    "\n",
    "Parameters:\t\n",
    ">- image – 8-bit input image\n",
    ">- threshold1 – Hysteresis Thredsholding 작업에서의 min 값\n",
    ">- threshold2 – Hysteresis Thredsholding 작업에서의 max 값\n"
   ]
  },
  {
   "cell_type": "code",
   "execution_count": 29,
   "metadata": {
    "collapsed": true
   },
   "outputs": [],
   "source": [
    "image = cv2.imread('../data/Lena.png', 0)\n",
    "\n",
    "edges = cv2.Canny(image, 50, 100)  # CV_8U 입력만 유효\n",
    "\n",
    "cv2.imshow('Canny', edges)\n",
    "cv2.waitKey()\n",
    "cv2.waitKey()\n",
    "cv2.destroyAllWindows()"
   ]
  },
  {
   "cell_type": "code",
   "execution_count": 30,
   "metadata": {},
   "outputs": [],
   "source": [
    "image = cv2.imread('../data/sudoku.png', 0)\n",
    "\n",
    "edges = cv2.Canny(image, 50, 100)  # CV_8U 입력만 유효\n",
    "\n",
    "cv2.imshow('Canny', edges)\n",
    "cv2.waitKey()\n",
    "cv2.waitKey()\n",
    "cv2.destroyAllWindows()"
   ]
  }
 ],
 "metadata": {
  "kernelspec": {
   "display_name": "Python 3",
   "language": "python",
   "name": "python3"
  },
  "language_info": {
   "codemirror_mode": {
    "name": "ipython",
    "version": 3
   },
   "file_extension": ".py",
   "mimetype": "text/x-python",
   "name": "python",
   "nbconvert_exporter": "python",
   "pygments_lexer": "ipython3",
   "version": "3.11.0"
  },
  "vscode": {
   "interpreter": {
    "hash": "10340f3b4385e401792eeb44b8b5edca2cd8c002c17926bde515355c1d6e3c5e"
   }
  }
 },
 "nbformat": 4,
 "nbformat_minor": 2
}
