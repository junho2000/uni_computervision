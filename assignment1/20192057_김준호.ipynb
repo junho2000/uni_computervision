{
  "cells": [
    {
      "cell_type": "markdown",
      "metadata": {
        "id": "WpcC5AP75Znz"
      },
      "source": [
        "Assignment 1: write a program to rotate an image by a given angle (in radians) using bilinear interpolation\n",
        "\n",
        "Start:\n",
        "* load image\n",
        "* set rotation angle "
      ]
    },
    {
      "cell_type": "code",
      "execution_count": null,
      "metadata": {
        "id": "n1FqIdH75Z1D"
      },
      "outputs": [],
      "source": [
        "import cv2\n",
        "import numpy as np\n",
        "\n",
        "# Load the image\n",
        "img = cv2.imread(\"/Users/kimjunho/Desktop/컴퓨터비전3-1/assignment1/img_example.JPG\")\n",
        "\n",
        "# Set the rotation angle\n",
        "ang = np.pi/3"
      ]
    },
    {
      "cell_type": "markdown",
      "metadata": {
        "id": "8yFs9Qct5Z_M"
      },
      "source": [
        "Problem 1: [code by yourself]\n",
        "\n",
        "Define a function `rotate_img()`, with the following input parameters and return variables:\n",
        "* img (input): input image as a 3D numpy array of size (H,W,3)\n",
        "* ang (input): rotation angle in radian\n",
        "* img_out (output): output image as a 3D numpy array of size (H_out,W_out,3)\n",
        "\n",
        "This function should include the following processes:\n",
        "* Define a 2x2 rotation matrix as a numpy array for the given rotation angle \n",
        "* Compute output image size and the offset for the output image coordinates by computing the image corner coordinates after rotating the image\n",
        "* Apply bilinear interpolation when determining the pixel values for the output image \n",
        "\n"
      ]
    },
    {
      "cell_type": "code",
      "execution_count": null,
      "metadata": {
        "id": "FzIrMoSm5aJv"
      },
      "outputs": [],
      "source": [
        "def rotate_img(img, ang):\n",
        "  # compute rotation matrix\n",
        "  m60 = np.float32([[np.cos(ang), -1*np.sin(ang)],\n",
        "                        [np.sin(ang), np.cos(ang)]])\n",
        "  \n",
        "  # compute output coordinates for image corners\n",
        "  row, col = img.shape[:2] # 1124 843\n",
        "  coordinate = np.array([[0,0], [0,row-1], [col-1, 0], [col-1, row-1]]) #(x,y)\n",
        "  newcoordinate  = []\n",
        "  for i in range(4):\n",
        "      newcoordinate.append((m60@coordinate[i].T).T)\n",
        "  newcoordinate = np.array(newcoordinate)\n",
        "  print(newcoordinate)\n",
        "  \n",
        "  # compute output image size and offset\n",
        "  col_min, row_min = np.min(newcoordinate, axis=0).astype(int)\n",
        "  col_max, row_max = np.max(newcoordinate, axis=0).astype(int)\n",
        "  col_out, row_out = col_max - col_min + 1, row_max - row_min + 1\n",
        "  print('output(row, col) =', row_out, col_out)\n",
        "  col_offset, row_offset = -col_min, -row_min\n",
        "  print('offsets(x,y) =', col_offset, row_offset)\n",
        "  \n",
        "  # define output image object\n",
        "  img_out = np.zeros((row_out, col_out, 3), dtype=img.dtype)\n",
        "  \n",
        "  # for each output image coordinate, \n",
        "  # compute corresponding original image coordinate\n",
        "  # get pixel value from original image with interpolation\n",
        "  for r in range(row_out):\n",
        "        for c in range(col_out):\n",
        "            x_in, y_in = np.array([c - col_offset, r - row_offset])@m60\n",
        "            if x_in >= 0 and y_in >= 0 and x_in <= col - 1 and y_in <= row - 1:\n",
        "                x_in0, y_in0 = int(np.floor(x_in)), int(np.floor(y_in))\n",
        "                x_in1, y_in1 = x_in0+1, y_in0+1\n",
        "                alpha, beta = x_in - x_in0, y_in - y_in0\n",
        "                img_out[r, c] = (1-beta)*(1-alpha)*img[y_in0,x_in0] + (1-beta)*alpha*img[y_in0,x_in1] + beta*(1-alpha)*img[y_in1,x_in0] + beta*alpha*img[y_in1,x_in1]\n",
        "\n",
        "  return img_out"
      ]
    },
    {
      "cell_type": "markdown",
      "metadata": {
        "id": "QAJWlT7O5agF"
      },
      "source": [
        "Show the output:\n",
        "* use matplotlib"
      ]
    },
    {
      "cell_type": "code",
      "execution_count": null,
      "metadata": {
        "id": "--7HT3DA5ao7"
      },
      "outputs": [],
      "source": [
        "import matplotlib.pyplot as plt\n",
        "img_out = rotate_img(img, ang)\n",
        "# Convert the image from BGR to RGB format\n",
        "img_out = cv2.cvtColor(img_out, cv2.COLOR_BGR2RGB)\n",
        "# Display the image using Matplotlib\n",
        "plt.imshow(img_out)\n",
        "plt.show()"
      ]
    }
  ],
  "metadata": {
    "colab": {
      "provenance": []
    },
    "kernelspec": {
      "display_name": "Python 3",
      "name": "python3"
    },
    "language_info": {
      "name": "python"
    }
  },
  "nbformat": 4,
  "nbformat_minor": 0
}
